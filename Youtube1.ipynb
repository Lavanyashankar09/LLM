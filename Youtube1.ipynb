{
 "cells": [
  {
   "cell_type": "code",
   "execution_count": null,
   "id": "e957c79b-6179-40e2-b315-8f8ea9658bda",
   "metadata": {},
   "outputs": [
    {
     "name": "stderr",
     "output_type": "stream",
     "text": [
      "python(8006) MallocStackLogging: can't turn off malloc stack logging because it was not enabled.\n",
      "huggingface/tokenizers: The current process just got forked, after parallelism has already been used. Disabling parallelism to avoid deadlocks...\n",
      "To disable this warning, you can either:\n",
      "\t- Avoid using `tokenizers` before the fork if possible\n",
      "\t- Explicitly set the environment variable TOKENIZERS_PARALLELISM=(true | false)\n",
      "Device set to use mps:0\n"
     ]
    }
   ],
   "source": [
    "from transformers import AutoTokenizer, AutoModelForCausalLM, pipeline\n",
    "\n",
    "model_id = \"gpt2\"   # GPT-2 is decoder-only and supports text generation\n",
    "\n",
    "tokenizer = AutoTokenizer.from_pretrained(model_id)\n",
    "model = AutoModelForCausalLM.from_pretrained(model_id)\n",
    "\n",
    "generation_pipeline = pipeline(\"text-generation\", model=model, tokenizer=tokenizer)\n",
    "\n",
    "output = generation_pipeline(\"Hello what are you?\", max_new_tokens=25)\n",
    "print(output[0][\"generated_text\"])\n"
   ]
  },
  {
   "cell_type": "code",
   "execution_count": 13,
   "id": "ebd8be67-1ce2-4a65-bb25-72144a63d626",
   "metadata": {},
   "outputs": [
    {
     "name": "stdout",
     "output_type": "stream",
     "text": [
      "{'input_ids': tensor([[31373,  2248],\n",
      "        [31373,  5156]]), 'attention_mask': tensor([[1, 1],\n",
      "        [1, 1]])}\n"
     ]
    }
   ],
   "source": [
    "prompt = [\"hello lab\", \"hello baby\"]\n",
    "token1 = tokenizer(prompt, return_tensors = 'pt')\n",
    "print(token1)"
   ]
  },
  {
   "cell_type": "code",
   "execution_count": 14,
   "id": "c08b059b-4f0d-4c10-8304-a54db391e27d",
   "metadata": {},
   "outputs": [
    {
     "data": {
      "text/plain": [
       "['hello lab', 'hello baby']"
      ]
     },
     "execution_count": 14,
     "metadata": {},
     "output_type": "execute_result"
    }
   ],
   "source": [
    "tokenizer.batch_decode(token1[\"input_ids\"])"
   ]
  },
  {
   "cell_type": "code",
   "execution_count": 15,
   "id": "fd82f437-bb6e-4c80-8164-78896321ceda",
   "metadata": {},
   "outputs": [
    {
     "name": "stdout",
     "output_type": "stream",
     "text": [
      "{'input_ids': tensor([[31373, 21606, 34183, 50256, 50256, 50256, 50256, 50256, 50256],\n",
      "        [31373,   264,  1530,  2611,    11,   703,   389,   345,    30]]), 'attention_mask': tensor([[1, 1, 1, 0, 0, 0, 0, 0, 0],\n",
      "        [1, 1, 1, 1, 1, 1, 1, 1, 1]])}\n"
     ]
    }
   ],
   "source": [
    "prompt = [\"hello lavanya\", \"hello sushma, how are you?\"]\n",
    "\n",
    "tokenizer.pad_token = tokenizer.eos_token\n",
    "\n",
    "tokens = tokenizer(\n",
    "    prompt,\n",
    "    return_tensors=\"pt\",\n",
    "    padding=True   # ✅ pad to the longest sentence in the batch\n",
    ")\n",
    "print(tokens)"
   ]
  },
  {
   "cell_type": "code",
   "execution_count": 16,
   "id": "ef3f5e2f-8827-4ff9-95de-7fbb07caeb52",
   "metadata": {},
   "outputs": [
    {
     "data": {
      "text/plain": [
       "tensor([[31373, 21606, 34183, 50256, 50256, 50256, 50256, 50256, 50256],\n",
       "        [31373,   264,  1530,  2611,    11,   703,   389,   345,    30]])"
      ]
     },
     "execution_count": 16,
     "metadata": {},
     "output_type": "execute_result"
    }
   ],
   "source": [
    "tokens[\"input_ids\"]"
   ]
  },
  {
   "cell_type": "code",
   "execution_count": 17,
   "id": "492bf119-a686-4cbf-bd54-2cffa5890c4a",
   "metadata": {},
   "outputs": [
    {
     "data": {
      "text/plain": [
       "['hello lavanya<|endoftext|><|endoftext|><|endoftext|><|endoftext|><|endoftext|><|endoftext|>',\n",
       " 'hello sushma, how are you?']"
      ]
     },
     "execution_count": 17,
     "metadata": {},
     "output_type": "execute_result"
    }
   ],
   "source": [
    "tokenizer.batch_decode(tokens[\"input_ids\"])"
   ]
  }
 ],
 "metadata": {
  "kernelspec": {
   "display_name": "Orpheus TTS",
   "language": "python",
   "name": "orpheus_tts"
  },
  "language_info": {
   "codemirror_mode": {
    "name": "ipython",
    "version": 3
   },
   "file_extension": ".py",
   "mimetype": "text/x-python",
   "name": "python",
   "nbconvert_exporter": "python",
   "pygments_lexer": "ipython3",
   "version": "3.11.13"
  }
 },
 "nbformat": 4,
 "nbformat_minor": 5
}
