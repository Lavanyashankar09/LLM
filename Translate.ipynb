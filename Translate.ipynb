{
 "cells": [
  {
   "cell_type": "code",
   "execution_count": 44,
   "id": "2f438ea0-d959-45b3-894b-ea3b8efa0a6e",
   "metadata": {},
   "outputs": [],
   "source": [
    "from transformers import MarianMTModel, MarianTokenizer, Seq2SeqTrainer, Seq2SeqTrainingArguments, DataCollatorForSeq2Seq\n",
    "from datasets import Dataset\n",
    "import numpy as np\n",
    "import evaluate\n",
    "\n",
    "model_name = \"Helsinki-NLP/opus-mt-en-fr\"\n",
    "tokenizer = MarianTokenizer.from_pretrained(model_name)\n",
    "model = MarianMTModel.from_pretrained(model_name)"
   ]
  },
  {
   "cell_type": "code",
   "execution_count": 45,
   "id": "08fb99ac-fd49-4fea-82aa-2366c91159d0",
   "metadata": {},
   "outputs": [],
   "source": [
    "data = {\n",
    "    \"en\": [\n",
    "        \"Hello, how are you?\",\n",
    "        \"Good morning!\",\n",
    "        \"I love machine learning.\",\n",
    "        \"Where is the library?\",\n",
    "        \"This is a test.\",\n",
    "        \"What is your name?\",\n",
    "        \"Have a nice day.\",\n",
    "        \"I am learning French.\",\n",
    "        \"The weather is nice today.\",\n",
    "        \"See you tomorrow.\"\n",
    "    ],\n",
    "    \"fr\": [\n",
    "        \"Bonjour, comment ça va?\",\n",
    "        \"Bonjour!\",\n",
    "        \"J'adore l'apprentissage automatique.\",\n",
    "        \"Où est la bibliothèque?\",\n",
    "        \"Ceci est un test.\",\n",
    "        \"Quel est ton nom?\",\n",
    "        \"Bonne journée.\",\n",
    "        \"J'apprends le français.\",\n",
    "        \"Il fait beau aujourd'hui.\",\n",
    "        \"À demain.\"\n",
    "    ]\n",
    "}\n",
    "\n",
    "dataset = Dataset.from_dict(data)"
   ]
  },
  {
   "cell_type": "code",
   "execution_count": 46,
   "id": "b7fc0cf5-4a73-4dc5-bbab-b85fdda22c5d",
   "metadata": {},
   "outputs": [
    {
     "name": "stderr",
     "output_type": "stream",
     "text": [
      "Map: 100%|█████████████████████████████| 10/10 [00:00<00:00, 1019.79 examples/s]\n"
     ]
    }
   ],
   "source": [
    "def preprocess(batch):\n",
    "    inputs = tokenizer(batch[\"en\"], truncation=True)\n",
    "    labels = tokenizer(batch[\"fr\"], truncation=True)\n",
    "    inputs[\"labels\"] = labels[\"input_ids\"]\n",
    "    return inputs\n",
    "\n",
    "tokenized_dataset = dataset.map(preprocess, batched=True)\n",
    "\n",
    "data_collator = DataCollatorForSeq2Seq(tokenizer=tokenizer, model=model)"
   ]
  },
  {
   "cell_type": "code",
   "execution_count": 47,
   "id": "b01b08e0-bdd6-4cff-9056-b981f0f97576",
   "metadata": {},
   "outputs": [],
   "source": [
    "bleu = evaluate.load(\"sacrebleu\")\n",
    "\n",
    "def compute_metrics(eval_pred):\n",
    "    preds, labels = eval_pred\n",
    "    print(\"pred\",preds)\n",
    "    print(\"labels\",labels)\n",
    "    if isinstance(preds, tuple):\n",
    "        preds = preds[0]\n",
    "    decoded_preds = tokenizer.batch_decode(preds, skip_special_tokens=True)\n",
    "    labels = np.where(labels != -100, labels, tokenizer.pad_token_id)\n",
    "    decoded_labels = tokenizer.batch_decode(labels, skip_special_tokens=True)\n",
    "    result = bleu.compute(predictions=decoded_preds, references=[[l] for l in decoded_labels])\n",
    "    return {\"bleu\": result[\"score\"]}\n"
   ]
  },
  {
   "cell_type": "markdown",
   "id": "a387efda-7a25-4e2c-9fd1-80d91e3488a4",
   "metadata": {},
   "source": [
    "# BASELINE"
   ]
  },
  {
   "cell_type": "code",
   "execution_count": 48,
   "id": "64dfad69-b954-4509-ab49-03eca5d16097",
   "metadata": {},
   "outputs": [
    {
     "name": "stderr",
     "output_type": "stream",
     "text": [
      "/var/folders/bv/c7b6nvgj05s7ftxp8534dp0w0000gn/T/ipykernel_25756/3523139822.py:12: FutureWarning: `tokenizer` is deprecated and will be removed in version 5.0.0 for `Seq2SeqTrainer.__init__`. Use `processing_class` instead.\n",
      "  trainerb = Seq2SeqTrainer(\n"
     ]
    },
    {
     "data": {
      "text/html": [
       "\n",
       "    <div>\n",
       "      \n",
       "      <progress value='2' max='2' style='width:300px; height:20px; vertical-align: middle;'></progress>\n",
       "      [2/2 00:00]\n",
       "    </div>\n",
       "    "
      ],
      "text/plain": [
       "<IPython.core.display.HTML object>"
      ]
     },
     "metadata": {},
     "output_type": "display_data"
    },
    {
     "name": "stdout",
     "output_type": "stream",
     "text": [
      "pred [[59513  8703     2 ... 59513 59513 59513]\n",
      " [59513  8703   291 ... 59513 59513 59513]\n",
      " [59513   234     6 ... 59513 59513 59513]\n",
      " ...\n",
      " [59513   234     6 ... 59513 59513 59513]\n",
      " [59513    60   398 ... 59513 59513 59513]\n",
      " [59513    84  7097 ... 59513 59513 59513]]\n",
      "labels [[ 3982 10243     2 ... 59513 59513 59513]\n",
      " [ 3982 10243   145 ... 59513 59513 59513]\n",
      " [  234     6  5916 ... 59513 59513 59513]\n",
      " ...\n",
      " [  234     6  4786 ... 59513 59513 59513]\n",
      " [  104  5901   567 ... 59513 59513 59513]\n",
      " [   49 14188     5 ... 59513 59513 59513]]\n"
     ]
    },
    {
     "data": {
      "text/plain": [
       "{'eval_loss': 4.388981819152832,\n",
       " 'eval_model_preparation_time': 0.0012,\n",
       " 'eval_bleu': 45.45958956990602,\n",
       " 'eval_runtime': 0.7765,\n",
       " 'eval_samples_per_second': 12.878,\n",
       " 'eval_steps_per_second': 2.576}"
      ]
     },
     "execution_count": 48,
     "metadata": {},
     "output_type": "execute_result"
    }
   ],
   "source": [
    "training_args = Seq2SeqTrainingArguments(\n",
    "    output_dir=\"./results\",\n",
    "    per_device_train_batch_size=2,\n",
    "    num_train_epochs=1,\n",
    "    logging_steps=1,\n",
    "    save_strategy=\"no\",\n",
    "    learning_rate=5e-5,\n",
    "    fp16=False,\n",
    "    predict_with_generate=True\n",
    ")\n",
    "\n",
    "trainerb = Seq2SeqTrainer(\n",
    "    model=model,\n",
    "    args=training_args,\n",
    "    eval_dataset=tokenized_dataset,\n",
    "    data_collator=data_collator,\n",
    "    tokenizer=tokenizer,\n",
    "    compute_metrics=compute_metrics\n",
    ")\n",
    "\n",
    "trainerb.evaluate()"
   ]
  },
  {
   "cell_type": "markdown",
   "id": "15e91c3e-70cb-4f64-b649-89db486b5f2d",
   "metadata": {},
   "source": [
    "# Train"
   ]
  },
  {
   "cell_type": "code",
   "execution_count": 49,
   "id": "34c06efb-2c15-4d5c-9bcd-b9455228c811",
   "metadata": {},
   "outputs": [
    {
     "name": "stderr",
     "output_type": "stream",
     "text": [
      "/var/folders/bv/c7b6nvgj05s7ftxp8534dp0w0000gn/T/ipykernel_25756/1829084537.py:12: FutureWarning: `tokenizer` is deprecated and will be removed in version 5.0.0 for `Seq2SeqTrainer.__init__`. Use `processing_class` instead.\n",
      "  trainer = Seq2SeqTrainer(\n",
      "The tokenizer has new PAD/BOS/EOS tokens that differ from the model config and generation config. The model config and generation config were aligned accordingly, being updated with the tokenizer's values. Updated tokens: {'bos_token_id': None}.\n"
     ]
    },
    {
     "data": {
      "text/html": [
       "\n",
       "    <div>\n",
       "      \n",
       "      <progress value='5' max='5' style='width:300px; height:20px; vertical-align: middle;'></progress>\n",
       "      [5/5 00:00, Epoch 1/1]\n",
       "    </div>\n",
       "    <table border=\"1\" class=\"dataframe\">\n",
       "  <thead>\n",
       " <tr style=\"text-align: left;\">\n",
       "      <th>Step</th>\n",
       "      <th>Training Loss</th>\n",
       "    </tr>\n",
       "  </thead>\n",
       "  <tbody>\n",
       "    <tr>\n",
       "      <td>1</td>\n",
       "      <td>5.785800</td>\n",
       "    </tr>\n",
       "    <tr>\n",
       "      <td>2</td>\n",
       "      <td>0.000000</td>\n",
       "    </tr>\n",
       "    <tr>\n",
       "      <td>3</td>\n",
       "      <td>0.000000</td>\n",
       "    </tr>\n",
       "    <tr>\n",
       "      <td>4</td>\n",
       "      <td>0.000000</td>\n",
       "    </tr>\n",
       "    <tr>\n",
       "      <td>5</td>\n",
       "      <td>0.000000</td>\n",
       "    </tr>\n",
       "  </tbody>\n",
       "</table><p>"
      ],
      "text/plain": [
       "<IPython.core.display.HTML object>"
      ]
     },
     "metadata": {},
     "output_type": "display_data"
    },
    {
     "data": {
      "text/plain": [
       "TrainOutput(global_step=5, training_loss=1.157162857055664, metrics={'train_runtime': 1.3244, 'train_samples_per_second': 7.551, 'train_steps_per_second': 3.775, 'total_flos': 16949182464.0, 'train_loss': 1.157162857055664, 'epoch': 1.0})"
      ]
     },
     "execution_count": 49,
     "metadata": {},
     "output_type": "execute_result"
    }
   ],
   "source": [
    "training_args = Seq2SeqTrainingArguments(\n",
    "    output_dir=\"./results\",\n",
    "    per_device_train_batch_size=2,\n",
    "    num_train_epochs=1,\n",
    "    logging_steps=1,\n",
    "    save_strategy=\"no\",\n",
    "    learning_rate=5e-5,\n",
    "    fp16=False,\n",
    "    predict_with_generate=True\n",
    ")\n",
    "\n",
    "trainer = Seq2SeqTrainer(\n",
    "    model=model,\n",
    "    args=training_args,\n",
    "    train_dataset=tokenized_dataset,\n",
    "    eval_dataset=tokenized_dataset,\n",
    "    data_collator=data_collator,\n",
    "    tokenizer=tokenizer,\n",
    "    compute_metrics=compute_metrics\n",
    ")\n",
    "\n",
    "trainer.train()"
   ]
  },
  {
   "cell_type": "code",
   "execution_count": 50,
   "id": "aa1df04d-f730-405f-9048-57ec6aec3a51",
   "metadata": {},
   "outputs": [
    {
     "data": {
      "text/html": [
       "\n",
       "    <div>\n",
       "      \n",
       "      <progress value='2' max='2' style='width:300px; height:20px; vertical-align: middle;'></progress>\n",
       "      [2/2 00:00]\n",
       "    </div>\n",
       "    "
      ],
      "text/plain": [
       "<IPython.core.display.HTML object>"
      ]
     },
     "metadata": {},
     "output_type": "display_data"
    },
    {
     "name": "stdout",
     "output_type": "stream",
     "text": [
      "pred [[59513     0 59513 ... 59513 59513 59513]\n",
      " [59513     0 59513 ... 59513 59513 59513]\n",
      " [59513     0 59513 ... 59513 59513 59513]\n",
      " ...\n",
      " [59513     0 59513 ... 59513 59513 59513]\n",
      " [59513     0 59513 ... 59513 59513 59513]\n",
      " [59513     0 59513 ... 59513 59513 59513]]\n",
      "labels [[ 3982 10243     2 ... 59513 59513 59513]\n",
      " [ 3982 10243   145 ... 59513 59513 59513]\n",
      " [  234     6  5916 ... 59513 59513 59513]\n",
      " ...\n",
      " [  234     6  4786 ... 59513 59513 59513]\n",
      " [  104  5901   567 ... 59513 59513 59513]\n",
      " [   49 14188     5 ... 59513 59513 59513]]\n"
     ]
    },
    {
     "data": {
      "text/plain": [
       "{'eval_loss': nan,\n",
       " 'eval_bleu': 0.0,\n",
       " 'eval_runtime': 0.2621,\n",
       " 'eval_samples_per_second': 38.153,\n",
       " 'eval_steps_per_second': 7.631,\n",
       " 'epoch': 1.0}"
      ]
     },
     "execution_count": 50,
     "metadata": {},
     "output_type": "execute_result"
    }
   ],
   "source": [
    "trainer.evaluate()"
   ]
  },
  {
   "cell_type": "code",
   "execution_count": null,
   "id": "6a7cede7-2555-48ab-a21f-b8bcaf1b70de",
   "metadata": {},
   "outputs": [],
   "source": []
  },
  {
   "cell_type": "code",
   "execution_count": null,
   "id": "9f81a3cf-2e44-4081-8498-7049f2593e24",
   "metadata": {},
   "outputs": [],
   "source": []
  }
 ],
 "metadata": {
  "kernelspec": {
   "display_name": "Orpheus TTS",
   "language": "python",
   "name": "orpheus_tts"
  },
  "language_info": {
   "codemirror_mode": {
    "name": "ipython",
    "version": 3
   },
   "file_extension": ".py",
   "mimetype": "text/x-python",
   "name": "python",
   "nbconvert_exporter": "python",
   "pygments_lexer": "ipython3",
   "version": "3.11.13"
  }
 },
 "nbformat": 4,
 "nbformat_minor": 5
}
